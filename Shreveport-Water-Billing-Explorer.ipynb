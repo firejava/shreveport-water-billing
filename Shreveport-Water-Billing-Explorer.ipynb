{
 "cells": [
  {
   "cell_type": "code",
   "execution_count": 5,
   "metadata": {},
   "outputs": [
    {
     "data": {
      "text/plain": [
       "85.11"
      ]
     },
     "execution_count": 5,
     "metadata": {},
     "output_type": "execute_result"
    }
   ],
   "source": [
    "def monthly_water_bill(start_amt, current_amt):\n",
    "    \"\"\"Return billed amount from starting current read and prior amount.\"\"\"\n",
    "    # start_time = time.process_time_ns()\n",
    "    water_base = 10.830\n",
    "    water_first_3 = 1.320\n",
    "    water_over_3 = 2.630\n",
    "    sewer_charge = 9.010\n",
    "    garbage_fee = 7\n",
    "    recycling_fee = 2.5\n",
    "    safe_drinking_water_fee = 1.000\n",
    "    security_fee = 0.500\n",
    "    total_bill = water_base + sewer_charge + garbage_fee + security_fee\n",
    "    total_bill = total_bill + recycling_fee + safe_drinking_water_fee\n",
    "    if (current_amt - start_amt) > 3:\n",
    "        total_bill = total_bill + water_first_3 * 3\n",
    "        total_bill = total_bill + (current_amt - start_amt - 3) * water_over_3\n",
    "        total_bill = total_bill + sewer_charge * (current_amt - start_amt)\n",
    "    else:\n",
    "        total_bill = total_bill + water_first_3 * (current_amt - start_amt)\n",
    "        total_bill = total_bill + sewer_charge * (current_amt - start_amt)\n",
    "    # print(f\"---{(time.process_time_ns() - start_time)} nanoseconds ---\")\n",
    "    return round(total_bill, 2)\n",
    "\n",
    "monthly_water_bill(1432, 1437)"
   ]
  },
  {
   "cell_type": "code",
   "execution_count": 7,
   "metadata": {},
   "outputs": [
    {
     "name": "stdout",
     "output_type": "stream",
     "text": [
      "85.11\n"
     ]
    }
   ],
   "source": [
    "def monthly_water_billed_by_gallon(start_amt, current_amt):\n",
    "    #start_time = time.process_time_ns()\n",
    "    water_base = 10.830\n",
    "    water_first_3 = 1.320\n",
    "    water_over_3 = 2.630\n",
    "    sewer_charge = 9.010\n",
    "    garbage_fee = 7\n",
    "    recycling_fee = 2.5\n",
    "    safe_drinking_water_fee = 1.000\n",
    "    security_fee = 0.500\n",
    "    total_bill = water_base + sewer_charge + garbage_fee + security_fee\n",
    "    total_bill = total_bill + recycling_fee + safe_drinking_water_fee\n",
    "    if (current_amt - start_amt) > 3000:\n",
    "        first_3k_water = water_first_3 * 3\n",
    "        total_bill = total_bill + first_3k_water\n",
    "        total_bill = total_bill + (current_amt - start_amt - 3000) / 1000 * water_over_3\n",
    "        total_bill = total_bill + sewer_charge * (current_amt - start_amt) / 1000\n",
    "    else:\n",
    "        total_bill = total_bill + water_first_3 * (current_amt - start_amt) / 1000\n",
    "        total_bill = total_bill + sewer_charge * (current_amt - start_amt) / 1000\n",
    "    #print(f\"---{(time.process_time_ns() - start_time)} nanoseconds ---\")\n",
    "    return round(total_bill, 2)\n",
    "\n",
    "print(monthly_water_billed_by_gallon(1432000, 1437000))"
   ]
  },
  {
   "cell_type": "code",
   "execution_count": 9,
   "metadata": {},
   "outputs": [
    {
     "data": {
      "text/plain": [
       "5.82"
      ]
     },
     "execution_count": 9,
     "metadata": {},
     "output_type": "execute_result"
    }
   ],
   "source": [
    "#Difference if 500 gallons not used\n",
    "round(monthly_water_bill(1432, 1437) - monthly_water_billed_by_gallon(1432000, 1436500), 2)"
   ]
  },
  {
   "cell_type": "code",
   "execution_count": null,
   "metadata": {},
   "outputs": [],
   "source": []
  }
 ],
 "metadata": {
  "file_extension": ".py",
  "kernelspec": {
   "display_name": "Python 3",
   "language": "python",
   "name": "python3"
  },
  "language_info": {
   "codemirror_mode": {
    "name": "ipython",
    "version": 3
   },
   "file_extension": ".py",
   "mimetype": "text/x-python",
   "name": "python",
   "nbconvert_exporter": "python",
   "pygments_lexer": "ipython3",
   "version": "3.7.3"
  },
  "mimetype": "text/x-python",
  "name": "python",
  "npconvert_exporter": "python",
  "pygments_lexer": "ipython3",
  "version": 3
 },
 "nbformat": 4,
 "nbformat_minor": 2
}
